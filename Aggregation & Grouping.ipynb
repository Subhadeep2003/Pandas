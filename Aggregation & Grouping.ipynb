{
 "cells": [
  {
   "cell_type": "code",
   "execution_count": 1,
   "id": "4972f4fc-6de0-4ee8-9e4c-44d6a394e76f",
   "metadata": {},
   "outputs": [],
   "source": [
    "import pandas as pd"
   ]
  },
  {
   "cell_type": "code",
   "execution_count": 3,
   "id": "57b395cc-4d1c-4884-859e-c8a8de159809",
   "metadata": {},
   "outputs": [],
   "source": [
    "df = pd.DataFrame({\n",
    "    \"Department\": [\"HR\", \"HR\", \"IT\", \"IT\", \"Marketing\", \"Marketing\", \"Sales\", \"Sales\"],\n",
    "    \"Team\": [\"A\", \"A\", \"B\", \"B\", \"C\", \"C\", \"D\", \"D\"],\n",
    "    \"Gender\": [\"M\", \"F\", \"M\", \"F\", \"M\", \"F\", \"M\", \"F\"],\n",
    "    \"Salary\": [85, 90, 78, 85, 92, 88, 75, 80],\n",
    "    \"Age\": [23, 25, 30, 22, 28, 26, 21, 27],\n",
    "    \"JoinDate\": pd.to_datetime([\n",
    "        \"2020-01-10\", \"2020-02-15\", \"2021-03-20\", \"2021-04-10\",\n",
    "        \"2020-05-30\", \"2020-06-25\", \"2021-07-15\", \"2021-08-01\"\n",
    "    ])\n",
    "})  \n"
   ]
  },
  {
   "cell_type": "code",
   "execution_count": 5,
   "id": "59ec7180-f344-43dc-87ae-2f6a003997c7",
   "metadata": {},
   "outputs": [
    {
     "data": {
      "text/html": [
       "<div>\n",
       "<style scoped>\n",
       "    .dataframe tbody tr th:only-of-type {\n",
       "        vertical-align: middle;\n",
       "    }\n",
       "\n",
       "    .dataframe tbody tr th {\n",
       "        vertical-align: top;\n",
       "    }\n",
       "\n",
       "    .dataframe thead th {\n",
       "        text-align: right;\n",
       "    }\n",
       "</style>\n",
       "<table border=\"1\" class=\"dataframe\">\n",
       "  <thead>\n",
       "    <tr style=\"text-align: right;\">\n",
       "      <th></th>\n",
       "      <th>Department</th>\n",
       "      <th>Team</th>\n",
       "      <th>Gender</th>\n",
       "      <th>Salary</th>\n",
       "      <th>Age</th>\n",
       "      <th>JoinDate</th>\n",
       "    </tr>\n",
       "  </thead>\n",
       "  <tbody>\n",
       "    <tr>\n",
       "      <th>0</th>\n",
       "      <td>HR</td>\n",
       "      <td>A</td>\n",
       "      <td>M</td>\n",
       "      <td>85</td>\n",
       "      <td>23</td>\n",
       "      <td>2020-01-10</td>\n",
       "    </tr>\n",
       "    <tr>\n",
       "      <th>1</th>\n",
       "      <td>HR</td>\n",
       "      <td>A</td>\n",
       "      <td>F</td>\n",
       "      <td>90</td>\n",
       "      <td>25</td>\n",
       "      <td>2020-02-15</td>\n",
       "    </tr>\n",
       "    <tr>\n",
       "      <th>2</th>\n",
       "      <td>IT</td>\n",
       "      <td>B</td>\n",
       "      <td>M</td>\n",
       "      <td>78</td>\n",
       "      <td>30</td>\n",
       "      <td>2021-03-20</td>\n",
       "    </tr>\n",
       "    <tr>\n",
       "      <th>3</th>\n",
       "      <td>IT</td>\n",
       "      <td>B</td>\n",
       "      <td>F</td>\n",
       "      <td>85</td>\n",
       "      <td>22</td>\n",
       "      <td>2021-04-10</td>\n",
       "    </tr>\n",
       "    <tr>\n",
       "      <th>4</th>\n",
       "      <td>Marketing</td>\n",
       "      <td>C</td>\n",
       "      <td>M</td>\n",
       "      <td>92</td>\n",
       "      <td>28</td>\n",
       "      <td>2020-05-30</td>\n",
       "    </tr>\n",
       "    <tr>\n",
       "      <th>5</th>\n",
       "      <td>Marketing</td>\n",
       "      <td>C</td>\n",
       "      <td>F</td>\n",
       "      <td>88</td>\n",
       "      <td>26</td>\n",
       "      <td>2020-06-25</td>\n",
       "    </tr>\n",
       "    <tr>\n",
       "      <th>6</th>\n",
       "      <td>Sales</td>\n",
       "      <td>D</td>\n",
       "      <td>M</td>\n",
       "      <td>75</td>\n",
       "      <td>21</td>\n",
       "      <td>2021-07-15</td>\n",
       "    </tr>\n",
       "    <tr>\n",
       "      <th>7</th>\n",
       "      <td>Sales</td>\n",
       "      <td>D</td>\n",
       "      <td>F</td>\n",
       "      <td>80</td>\n",
       "      <td>27</td>\n",
       "      <td>2021-08-01</td>\n",
       "    </tr>\n",
       "  </tbody>\n",
       "</table>\n",
       "</div>"
      ],
      "text/plain": [
       "  Department Team Gender  Salary  Age   JoinDate\n",
       "0         HR    A      M      85   23 2020-01-10\n",
       "1         HR    A      F      90   25 2020-02-15\n",
       "2         IT    B      M      78   30 2021-03-20\n",
       "3         IT    B      F      85   22 2021-04-10\n",
       "4  Marketing    C      M      92   28 2020-05-30\n",
       "5  Marketing    C      F      88   26 2020-06-25\n",
       "6      Sales    D      M      75   21 2021-07-15\n",
       "7      Sales    D      F      80   27 2021-08-01"
      ]
     },
     "execution_count": 5,
     "metadata": {},
     "output_type": "execute_result"
    }
   ],
   "source": [
    "df"
   ]
  },
  {
   "cell_type": "code",
   "execution_count": 7,
   "id": "53cac73a-d1e9-4a94-a580-ef680396b359",
   "metadata": {},
   "outputs": [
    {
     "data": {
      "text/plain": [
       "Department\n",
       "HR           87.5\n",
       "IT           81.5\n",
       "Marketing    90.0\n",
       "Sales        77.5\n",
       "Name: Salary, dtype: float64"
      ]
     },
     "execution_count": 7,
     "metadata": {},
     "output_type": "execute_result"
    }
   ],
   "source": [
    "df.groupby(\"Department\")[\"Salary\"].mean()#“Group by Department, then calculate average Salary for each group.”"
   ]
  },
  {
   "cell_type": "code",
   "execution_count": 33,
   "id": "73bb499c-9c67-4ca8-b97f-2a4f918e5061",
   "metadata": {},
   "outputs": [
    {
     "data": {
      "text/plain": [
       "pandas.core.series.Series"
      ]
     },
     "execution_count": 33,
     "metadata": {},
     "output_type": "execute_result"
    }
   ],
   "source": [
    "type(df.groupby(\"Department\")[\"Salary\"].mean())"
   ]
  },
  {
   "cell_type": "markdown",
   "id": "59efb8eb-ab63-45cf-8a1e-5122c4809107",
   "metadata": {},
   "source": [
    "Common Aggregation Functions"
   ]
  },
  {
   "cell_type": "code",
   "execution_count": 10,
   "id": "19fea75f-d1c9-42b9-990e-1bdf819577c1",
   "metadata": {},
   "outputs": [
    {
     "data": {
      "text/plain": [
       "Team\n",
       "A    87.5\n",
       "B    81.5\n",
       "C    90.0\n",
       "D    77.5\n",
       "Name: Salary, dtype: float64"
      ]
     },
     "execution_count": 10,
     "metadata": {},
     "output_type": "execute_result"
    }
   ],
   "source": [
    "df.groupby(\"Team\")[\"Salary\"].mean()# Average per team"
   ]
  },
  {
   "cell_type": "code",
   "execution_count": 12,
   "id": "5cbb9999-81c7-4266-8e6d-2f85cbcd035a",
   "metadata": {},
   "outputs": [
    {
     "data": {
      "text/plain": [
       "Team\n",
       "A    175\n",
       "B    163\n",
       "C    180\n",
       "D    155\n",
       "Name: Salary, dtype: int64"
      ]
     },
     "execution_count": 12,
     "metadata": {},
     "output_type": "execute_result"
    }
   ],
   "source": [
    "df.groupby(\"Team\")[\"Salary\"].sum() # Total score"
   ]
  },
  {
   "cell_type": "code",
   "execution_count": 27,
   "id": "2de97a44-c233-43e9-a1ff-7c7fb63c1a0c",
   "metadata": {},
   "outputs": [
    {
     "data": {
      "text/plain": [
       "Department\n",
       "HR           2\n",
       "IT           2\n",
       "Marketing    2\n",
       "Sales        2\n",
       "Name: Salary, dtype: int64"
      ]
     },
     "execution_count": 27,
     "metadata": {},
     "output_type": "execute_result"
    }
   ],
   "source": [
    "df.groupby(\"Department\")[\"Salary\"].count() ## How many entries"
   ]
  },
  {
   "cell_type": "code",
   "execution_count": 23,
   "id": "cde73650-1eef-45a7-b66e-c11380400d81",
   "metadata": {},
   "outputs": [
    {
     "data": {
      "text/plain": [
       "Department\n",
       "HR           85\n",
       "IT           78\n",
       "Marketing    88\n",
       "Sales        75\n",
       "Name: Salary, dtype: int64"
      ]
     },
     "execution_count": 23,
     "metadata": {},
     "output_type": "execute_result"
    }
   ],
   "source": [
    "df.groupby(\"Department\")[\"Salary\"].min()"
   ]
  },
  {
   "cell_type": "code",
   "execution_count": 25,
   "id": "fa775590-0553-4674-a759-c10398058c3a",
   "metadata": {},
   "outputs": [
    {
     "data": {
      "text/plain": [
       "Department\n",
       "HR           90\n",
       "IT           85\n",
       "Marketing    92\n",
       "Sales        80\n",
       "Name: Salary, dtype: int64"
      ]
     },
     "execution_count": 25,
     "metadata": {},
     "output_type": "execute_result"
    }
   ],
   "source": [
    "df.groupby(\"Department\")[\"Salary\"].max()"
   ]
  },
  {
   "cell_type": "code",
   "execution_count": 20,
   "id": "f0117418-569e-43e3-97ff-4c13917fcb6d",
   "metadata": {},
   "outputs": [
    {
     "data": {
      "text/plain": [
       "Team  Gender\n",
       "A     F         90.0\n",
       "      M         85.0\n",
       "B     F         85.0\n",
       "      M         78.0\n",
       "C     F         88.0\n",
       "      M         92.0\n",
       "D     F         80.0\n",
       "      M         75.0\n",
       "Name: Salary, dtype: float64"
      ]
     },
     "execution_count": 20,
     "metadata": {},
     "output_type": "execute_result"
    }
   ],
   "source": [
    "df.groupby([\"Team\", \"Gender\"])[\"Salary\"].mean()#To group by multiple columns:"
   ]
  },
  {
   "cell_type": "markdown",
   "id": "6c452324-5726-4987-b329-e170bf824337",
   "metadata": {},
   "source": [
    "Custom Aggregations with .agg()"
   ]
  },
  {
   "cell_type": "code",
   "execution_count": 29,
   "id": "a792ae3e-27c7-4830-813d-18ad89167945",
   "metadata": {},
   "outputs": [
    {
     "data": {
      "text/html": [
       "<div>\n",
       "<style scoped>\n",
       "    .dataframe tbody tr th:only-of-type {\n",
       "        vertical-align: middle;\n",
       "    }\n",
       "\n",
       "    .dataframe tbody tr th {\n",
       "        vertical-align: top;\n",
       "    }\n",
       "\n",
       "    .dataframe thead th {\n",
       "        text-align: right;\n",
       "    }\n",
       "</style>\n",
       "<table border=\"1\" class=\"dataframe\">\n",
       "  <thead>\n",
       "    <tr style=\"text-align: right;\">\n",
       "      <th></th>\n",
       "      <th>mean</th>\n",
       "      <th>max</th>\n",
       "      <th>min</th>\n",
       "    </tr>\n",
       "    <tr>\n",
       "      <th>Team</th>\n",
       "      <th></th>\n",
       "      <th></th>\n",
       "      <th></th>\n",
       "    </tr>\n",
       "  </thead>\n",
       "  <tbody>\n",
       "    <tr>\n",
       "      <th>A</th>\n",
       "      <td>87.5</td>\n",
       "      <td>90</td>\n",
       "      <td>85</td>\n",
       "    </tr>\n",
       "    <tr>\n",
       "      <th>B</th>\n",
       "      <td>81.5</td>\n",
       "      <td>85</td>\n",
       "      <td>78</td>\n",
       "    </tr>\n",
       "    <tr>\n",
       "      <th>C</th>\n",
       "      <td>90.0</td>\n",
       "      <td>92</td>\n",
       "      <td>88</td>\n",
       "    </tr>\n",
       "    <tr>\n",
       "      <th>D</th>\n",
       "      <td>77.5</td>\n",
       "      <td>80</td>\n",
       "      <td>75</td>\n",
       "    </tr>\n",
       "  </tbody>\n",
       "</table>\n",
       "</div>"
      ],
      "text/plain": [
       "      mean  max  min\n",
       "Team                \n",
       "A     87.5   90   85\n",
       "B     81.5   85   78\n",
       "C     90.0   92   88\n",
       "D     77.5   80   75"
      ]
     },
     "execution_count": 29,
     "metadata": {},
     "output_type": "execute_result"
    }
   ],
   "source": [
    "#Apply multiple functions at once like this:\n",
    "df.groupby(\"Team\")[\"Salary\"].agg([\"mean\", \"max\", \"min\"])"
   ]
  },
  {
   "cell_type": "code",
   "execution_count": 31,
   "id": "3378a937-7582-4500-a1e6-b663b7789a05",
   "metadata": {},
   "outputs": [
    {
     "data": {
      "text/plain": [
       "pandas.core.frame.DataFrame"
      ]
     },
     "execution_count": 31,
     "metadata": {},
     "output_type": "execute_result"
    }
   ],
   "source": [
    "type(df.groupby(\"Team\")[\"Salary\"].agg([\"mean\", \"max\", \"min\"]))"
   ]
  },
  {
   "cell_type": "code",
   "execution_count": 35,
   "id": "a6e9cffa-7118-43ad-9b78-353d881b83fa",
   "metadata": {},
   "outputs": [
    {
     "data": {
      "text/html": [
       "<div>\n",
       "<style scoped>\n",
       "    .dataframe tbody tr th:only-of-type {\n",
       "        vertical-align: middle;\n",
       "    }\n",
       "\n",
       "    .dataframe tbody tr th {\n",
       "        vertical-align: top;\n",
       "    }\n",
       "\n",
       "    .dataframe thead th {\n",
       "        text-align: right;\n",
       "    }\n",
       "</style>\n",
       "<table border=\"1\" class=\"dataframe\">\n",
       "  <thead>\n",
       "    <tr style=\"text-align: right;\">\n",
       "      <th></th>\n",
       "      <th>avg_score</th>\n",
       "      <th>high_score</th>\n",
       "    </tr>\n",
       "    <tr>\n",
       "      <th>Team</th>\n",
       "      <th></th>\n",
       "      <th></th>\n",
       "    </tr>\n",
       "  </thead>\n",
       "  <tbody>\n",
       "    <tr>\n",
       "      <th>A</th>\n",
       "      <td>87.5</td>\n",
       "      <td>90</td>\n",
       "    </tr>\n",
       "    <tr>\n",
       "      <th>B</th>\n",
       "      <td>81.5</td>\n",
       "      <td>85</td>\n",
       "    </tr>\n",
       "    <tr>\n",
       "      <th>C</th>\n",
       "      <td>90.0</td>\n",
       "      <td>92</td>\n",
       "    </tr>\n",
       "    <tr>\n",
       "      <th>D</th>\n",
       "      <td>77.5</td>\n",
       "      <td>80</td>\n",
       "    </tr>\n",
       "  </tbody>\n",
       "</table>\n",
       "</div>"
      ],
      "text/plain": [
       "      avg_score  high_score\n",
       "Team                       \n",
       "A          87.5          90\n",
       "B          81.5          85\n",
       "C          90.0          92\n",
       "D          77.5          80"
      ]
     },
     "execution_count": 35,
     "metadata": {},
     "output_type": "execute_result"
    }
   ],
   "source": [
    "#Name your own functions:\n",
    "df.groupby(\"Team\")[\"Salary\"].agg(\n",
    "    avg_score=\"mean\",\n",
    "    high_score=\"max\"\n",
    ")"
   ]
  },
  {
   "cell_type": "code",
   "execution_count": 37,
   "id": "b7b486e2-3738-4d3e-bf3d-9bbbef9dcb6b",
   "metadata": {},
   "outputs": [],
   "source": [
    "df[\"Team Avg\"] = df.groupby(\"Team\")[\"Salary\"].transform(\"mean\")"
   ]
  },
  {
   "cell_type": "code",
   "execution_count": 39,
   "id": "68b714a4-fc3b-448e-b5c7-89378a35a6db",
   "metadata": {},
   "outputs": [
    {
     "data": {
      "text/html": [
       "<div>\n",
       "<style scoped>\n",
       "    .dataframe tbody tr th:only-of-type {\n",
       "        vertical-align: middle;\n",
       "    }\n",
       "\n",
       "    .dataframe tbody tr th {\n",
       "        vertical-align: top;\n",
       "    }\n",
       "\n",
       "    .dataframe thead th {\n",
       "        text-align: right;\n",
       "    }\n",
       "</style>\n",
       "<table border=\"1\" class=\"dataframe\">\n",
       "  <thead>\n",
       "    <tr style=\"text-align: right;\">\n",
       "      <th></th>\n",
       "      <th>Department</th>\n",
       "      <th>Team</th>\n",
       "      <th>Gender</th>\n",
       "      <th>Salary</th>\n",
       "      <th>Age</th>\n",
       "      <th>JoinDate</th>\n",
       "      <th>Team Avg</th>\n",
       "    </tr>\n",
       "  </thead>\n",
       "  <tbody>\n",
       "    <tr>\n",
       "      <th>0</th>\n",
       "      <td>HR</td>\n",
       "      <td>A</td>\n",
       "      <td>M</td>\n",
       "      <td>85</td>\n",
       "      <td>23</td>\n",
       "      <td>2020-01-10</td>\n",
       "      <td>87.5</td>\n",
       "    </tr>\n",
       "    <tr>\n",
       "      <th>1</th>\n",
       "      <td>HR</td>\n",
       "      <td>A</td>\n",
       "      <td>F</td>\n",
       "      <td>90</td>\n",
       "      <td>25</td>\n",
       "      <td>2020-02-15</td>\n",
       "      <td>87.5</td>\n",
       "    </tr>\n",
       "    <tr>\n",
       "      <th>2</th>\n",
       "      <td>IT</td>\n",
       "      <td>B</td>\n",
       "      <td>M</td>\n",
       "      <td>78</td>\n",
       "      <td>30</td>\n",
       "      <td>2021-03-20</td>\n",
       "      <td>81.5</td>\n",
       "    </tr>\n",
       "    <tr>\n",
       "      <th>3</th>\n",
       "      <td>IT</td>\n",
       "      <td>B</td>\n",
       "      <td>F</td>\n",
       "      <td>85</td>\n",
       "      <td>22</td>\n",
       "      <td>2021-04-10</td>\n",
       "      <td>81.5</td>\n",
       "    </tr>\n",
       "    <tr>\n",
       "      <th>4</th>\n",
       "      <td>Marketing</td>\n",
       "      <td>C</td>\n",
       "      <td>M</td>\n",
       "      <td>92</td>\n",
       "      <td>28</td>\n",
       "      <td>2020-05-30</td>\n",
       "      <td>90.0</td>\n",
       "    </tr>\n",
       "    <tr>\n",
       "      <th>5</th>\n",
       "      <td>Marketing</td>\n",
       "      <td>C</td>\n",
       "      <td>F</td>\n",
       "      <td>88</td>\n",
       "      <td>26</td>\n",
       "      <td>2020-06-25</td>\n",
       "      <td>90.0</td>\n",
       "    </tr>\n",
       "    <tr>\n",
       "      <th>6</th>\n",
       "      <td>Sales</td>\n",
       "      <td>D</td>\n",
       "      <td>M</td>\n",
       "      <td>75</td>\n",
       "      <td>21</td>\n",
       "      <td>2021-07-15</td>\n",
       "      <td>77.5</td>\n",
       "    </tr>\n",
       "    <tr>\n",
       "      <th>7</th>\n",
       "      <td>Sales</td>\n",
       "      <td>D</td>\n",
       "      <td>F</td>\n",
       "      <td>80</td>\n",
       "      <td>27</td>\n",
       "      <td>2021-08-01</td>\n",
       "      <td>77.5</td>\n",
       "    </tr>\n",
       "  </tbody>\n",
       "</table>\n",
       "</div>"
      ],
      "text/plain": [
       "  Department Team Gender  Salary  Age   JoinDate  Team Avg\n",
       "0         HR    A      M      85   23 2020-01-10      87.5\n",
       "1         HR    A      F      90   25 2020-02-15      87.5\n",
       "2         IT    B      M      78   30 2021-03-20      81.5\n",
       "3         IT    B      F      85   22 2021-04-10      81.5\n",
       "4  Marketing    C      M      92   28 2020-05-30      90.0\n",
       "5  Marketing    C      F      88   26 2020-06-25      90.0\n",
       "6      Sales    D      M      75   21 2021-07-15      77.5\n",
       "7      Sales    D      F      80   27 2021-08-01      77.5"
      ]
     },
     "execution_count": 39,
     "metadata": {},
     "output_type": "execute_result"
    }
   ],
   "source": [
    "df"
   ]
  },
  {
   "cell_type": "code",
   "execution_count": 43,
   "id": "3cf85971-074b-4ad1-8e6a-f3e887f816d4",
   "metadata": {},
   "outputs": [
    {
     "data": {
      "text/html": [
       "<div>\n",
       "<style scoped>\n",
       "    .dataframe tbody tr th:only-of-type {\n",
       "        vertical-align: middle;\n",
       "    }\n",
       "\n",
       "    .dataframe tbody tr th {\n",
       "        vertical-align: top;\n",
       "    }\n",
       "\n",
       "    .dataframe thead th {\n",
       "        text-align: right;\n",
       "    }\n",
       "</style>\n",
       "<table border=\"1\" class=\"dataframe\">\n",
       "  <thead>\n",
       "    <tr style=\"text-align: right;\">\n",
       "      <th></th>\n",
       "      <th>Department</th>\n",
       "      <th>Team</th>\n",
       "      <th>Gender</th>\n",
       "      <th>Salary</th>\n",
       "      <th>Age</th>\n",
       "      <th>JoinDate</th>\n",
       "      <th>Team Avg</th>\n",
       "    </tr>\n",
       "  </thead>\n",
       "  <tbody>\n",
       "    <tr>\n",
       "      <th>0</th>\n",
       "      <td>HR</td>\n",
       "      <td>A</td>\n",
       "      <td>M</td>\n",
       "      <td>85</td>\n",
       "      <td>23</td>\n",
       "      <td>2020-01-10</td>\n",
       "      <td>87.5</td>\n",
       "    </tr>\n",
       "    <tr>\n",
       "      <th>1</th>\n",
       "      <td>HR</td>\n",
       "      <td>A</td>\n",
       "      <td>F</td>\n",
       "      <td>90</td>\n",
       "      <td>25</td>\n",
       "      <td>2020-02-15</td>\n",
       "      <td>87.5</td>\n",
       "    </tr>\n",
       "    <tr>\n",
       "      <th>4</th>\n",
       "      <td>Marketing</td>\n",
       "      <td>C</td>\n",
       "      <td>M</td>\n",
       "      <td>92</td>\n",
       "      <td>28</td>\n",
       "      <td>2020-05-30</td>\n",
       "      <td>90.0</td>\n",
       "    </tr>\n",
       "    <tr>\n",
       "      <th>5</th>\n",
       "      <td>Marketing</td>\n",
       "      <td>C</td>\n",
       "      <td>F</td>\n",
       "      <td>88</td>\n",
       "      <td>26</td>\n",
       "      <td>2020-06-25</td>\n",
       "      <td>90.0</td>\n",
       "    </tr>\n",
       "  </tbody>\n",
       "</table>\n",
       "</div>"
      ],
      "text/plain": [
       "  Department Team Gender  Salary  Age   JoinDate  Team Avg\n",
       "0         HR    A      M      85   23 2020-01-10      87.5\n",
       "1         HR    A      F      90   25 2020-02-15      87.5\n",
       "4  Marketing    C      M      92   28 2020-05-30      90.0\n",
       "5  Marketing    C      F      88   26 2020-06-25      90.0"
      ]
     },
     "execution_count": 43,
     "metadata": {},
     "output_type": "execute_result"
    }
   ],
   "source": [
    "df.groupby(\"Team\").filter(lambda x: x[\"Salary\"].mean() > 85)"
   ]
  },
  {
   "cell_type": "code",
   "execution_count": null,
   "id": "45a4f1de-9aee-422a-98bc-2fbffc876f58",
   "metadata": {},
   "outputs": [],
   "source": []
  }
 ],
 "metadata": {
  "kernelspec": {
   "display_name": "Python [conda env:base] *",
   "language": "python",
   "name": "conda-base-py"
  },
  "language_info": {
   "codemirror_mode": {
    "name": "ipython",
    "version": 3
   },
   "file_extension": ".py",
   "mimetype": "text/x-python",
   "name": "python",
   "nbconvert_exporter": "python",
   "pygments_lexer": "ipython3",
   "version": "3.12.7"
  }
 },
 "nbformat": 4,
 "nbformat_minor": 5
}
